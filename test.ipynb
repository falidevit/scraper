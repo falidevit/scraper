{
 "cells": [
  {
   "cell_type": "code",
   "execution_count": 7,
   "metadata": {},
   "outputs": [],
   "source": [
    "import requests\n",
    "from bs4 import BeautifulSoup\n",
    "from bs4.element import Comment\n",
    "\n"
   ]
  },
  {
   "cell_type": "code",
   "execution_count": 4,
   "metadata": {},
   "outputs": [],
   "source": [
    "html = requests.get('https://careers.thomsonreuters.com/us/en/job/THTTRUUSJREQ172509EXTERNALENUS/Software-Engineer-New-Grad')\n",
    "soup = BeautifulSoup(html.text, 'html.parser')"
   ]
  },
  {
   "cell_type": "code",
   "execution_count": 13,
   "metadata": {},
   "outputs": [
    {
     "name": "stderr",
     "output_type": "stream",
     "text": [
      "/var/folders/j6/_ypr8rm538z0h851rgf8gk4h0000gn/T/ipykernel_15556/2668911676.py:12: DeprecationWarning: The 'text' argument to find()-type methods is deprecated. Use 'string' instead.\n",
      "  texts = soup.findAll(text=True)\n"
     ]
    },
    {
     "data": {
      "text/plain": [
       "'WARNING: Your JavaScript is disabled. This site does not work without JavaScript. Please enable JavaScript to use all features. Select a language English (English)  Deutsch (German) Your language preference will be saved in your profile. Deutsche Bank Graduate Programme - Technology, Data and Innovation (TDI) – Cary 2024 Country: United States City: Cary Job Description: The Deutsche Bank Graduate Programme is a year-long comprehensive programme designed to provide you with exposure to a range of fascinating projects and ongoing professional and technical training to develop the skills you need to grow your career. You’ll feel supported by a network of peers and mentors and benefit from our global wellbeing programme.    Technology underpins Deutsche Bank’s entire business and is changing and shaping the way we engage, interact and transact with our stakeholders, internally and externally.\\xa0 Our Technology, Data and Innovation (TDI) strategy is strengthening our engineering expertise, introducing an agile delivery model, and is modernising the bank\\'s IT infrastructure with long-term investments and taking advantage of cloud computing.\\xa0 We are building a team of visionary technology talent that will ensure that we thrive in this period of unprecedented change for the industry.\\xa0 That means hiring the right people and giving them the training, freedom and opportunity they need to do pioneering work.    About the role  Our technology teams deliver and manage engineering solutions to support the bank’s global customers.\\xa0 You will develop and deliver solutions to help modernise technology solutions, to reduce complexity and risk, and to drive business growth.\\xa0 You will be part of a creative, collaborative and innovative team, partnering with others, sharing solutions and you will have a strong desire to make an impact.  We offer a structured entry-level rotational programme that will equip you with the foundational knowledge and skills necessary to build a long-term career as a technology professional at Deutsche Bank.  Depending on your rotation you will gain expertise in:   designing & delivering engineering solutions for our businesses and customers  providing production engineering services to ensure the safety and reliability of our technology  analysing business data within DB to inform plans and deliveries  enhancing our infrastructure capabilities and functions  using standard design patterns for strategic DB frameworks like Fabric, Autobahn, GLUE.     What we look for  We recruit students and graduates who are intelligent and adaptable with excellent communication skills. They have degrees in many different disciplines. Even though good levels of numeracy are important for some roles, you won’t necessarily need a formal mathematical or financial background. Our comprehensive training programmes will give you all the technical knowledge you’ll need to build a career with us.  Please note that to apply for our 2024 Graduate Programme you must graduate between December 2023-June2024.    Our Wellbeing is our success  Feeling healthy, engaged and well-supported, enables us to do our best work and get the most out of life outside of the office. That’s why Deutsche Bank is committed to providing benefits and programmes centred around wellbeing.    Financial wellbeing: A range of benefits including pension, life assurance, insurance for accident and disability, and in select locations we offer an employee share purchase plan and flexible benefit plans.  Comprehensive life and health: Medical insurance, preventative health checks, flu vaccinations and Employee Assistance Program. Mental health first aiders and company doctors available is select countries.  Parental benefits: Parental leave based on caregiver responsibility, maternity cover, phased back to work arrangements post parental leave, childcare leave and additional support offered in some countries.  Generous time: Annual leave, sick leave, and in select locations, wellbeing leave, family care and elder care leave.  Hybrid work model : For qualifying roles, eligible employees can work remotely based on divisional and country guidelines.    How to Apply:  Please visit www.careers.db.com /students-graduates to apply.  The annualized salary for this position is $85,000. \\xa0Posted salary ranges do not include incentive compensation or any other type of renumeration.  For candidates applying for positions in the US:  Deutsche Bank is an Equal Opportunity Employer - Veterans/Disabled and other protected categories. Click these links to view the \" EEO is the Law \" poster and \" pay transparency statement. \"    A notice on Recruitment Scams:  Please note that candidates are not required to pay money as part of the recruitment or job placement process. Do not divulge personal information if you are unsure of the authenticity of a communication from someone who claims to be representing Deutsche Bank. A notice on such scams and practices has been hosted on our website on the link below:  https://careers.db.com/professionals/a-notice-on-recruitment-scams    Should you become aware of any of our employees or individuals acting on behalf of Deutsche Bank engaging in acts of misconduct, you can help us by reporting your concerns via email to: report.misconduct@db.com . You are not obliged to identify yourself when making a report, with all reports received handled in confidence by our Whistleblowing Central Function and where necessary, by investigation teams for appropriate action.    #LI-EC1  Apply This website uses cookies to improve your browsing experience. Continue browsing or dismiss this message to accept. Find out more about our cookie policy here. Got it © 2023 Yello. All Rights Reserved. Powered by Yello Yello Privacy Policy'"
      ]
     },
     "execution_count": 13,
     "metadata": {},
     "output_type": "execute_result"
    }
   ],
   "source": [
    "def tag_visible(element):\n",
    "    if element.parent.name in ['style', 'script', 'head', 'title', 'meta', '[document]']:\n",
    "        return False\n",
    "    if isinstance(element, Comment):\n",
    "        return False\n",
    "    return True\n",
    "\n",
    "\n",
    "def text_from_html(url):\n",
    "    body = requests.get(url).text\n",
    "    soup = BeautifulSoup(body, 'html.parser')\n",
    "    texts = soup.findAll(text=True)\n",
    "    visible_texts = filter(tag_visible, texts)  \n",
    "    return u\" \".join(t.strip() for t in visible_texts)\n",
    "\n",
    "text_from_html(\"https://db.recsolu.com/external/requisitions/_qp86C7PbovbNfk_ICVckg\")"
   ]
  },
  {
   "cell_type": "code",
   "execution_count": 73,
   "metadata": {},
   "outputs": [],
   "source": [
    "import os\n",
    "from urllib.parse import quote\n",
    "\n",
    "os.environ['NO_PROXY'] = '127.0.0.1'\n",
    "url_parameter=\"https://boards.greenhouse.io/adept/jobs/4265377006\"\n",
    "encoded_url_parameter = quote(url_parameter, safe=\"\")\n",
    "r = requests.get(f'http://127.0.0.1:5000/scrape?url={encoded_url_parameter}')"
   ]
  },
  {
   "cell_type": "code",
   "execution_count": 74,
   "metadata": {},
   "outputs": [
    {
     "data": {
      "text/plain": [
       "'{\\n  \"DESC\": \"Adept is looking for a Software Engineer with a willingness to learn and build large, greenfield software projects. They are solving open problems in AI and packaging models into a form that enhances human experience. The ideal candidate should be intellectually curious and a collaborative problem-solver. The requirements for this position include having a high standard for execution speed and quality, excellent communication skills, and a degree in Computer Science or a related field. Nice to have skills include experience with machine learning models, building scalable web applications, and proficiency in Python and Javascript. The pay range for this position is $160,000 - $180,000 per year.\",\\n  \"KEYWORDS\": \"AI, software engineer, neural networks, product engineering, supercompute infrastructure, network architecture, greenfield software projects, execution speed, quality, communication skills, degree in Computer Science, machine learning models, scalable web applications, Python, Javascript.\",\\n  \"REQUIREMENTS\": \"Excited to learn new things, high standard for execution, excellent communication skills, degree in Computer Science or related field, experience with software systems, experience with machine learning models, experience with web application development, proficiency in Python and Javascript, experience with CUDA code, experience with managing and working with large clusters of computers, experience with high-performance networking technologies.\"\\n}\\n'"
      ]
     },
     "execution_count": 74,
     "metadata": {},
     "output_type": "execute_result"
    }
   ],
   "source": [
    "r.text"
   ]
  }
 ],
 "metadata": {
  "kernelspec": {
   "display_name": ".venv",
   "language": "python",
   "name": "python3"
  },
  "language_info": {
   "codemirror_mode": {
    "name": "ipython",
    "version": 3
   },
   "file_extension": ".py",
   "mimetype": "text/x-python",
   "name": "python",
   "nbconvert_exporter": "python",
   "pygments_lexer": "ipython3",
   "version": "3.9.6"
  },
  "orig_nbformat": 4
 },
 "nbformat": 4,
 "nbformat_minor": 2
}
